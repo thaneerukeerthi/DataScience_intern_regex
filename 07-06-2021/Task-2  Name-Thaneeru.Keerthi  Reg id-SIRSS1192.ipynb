{
 "cells": [
  {
   "cell_type": "markdown",
   "id": "d7253b44",
   "metadata": {},
   "source": [
    "# 1. Write a lambda expression to extract first word of a string."
   ]
  },
  {
   "cell_type": "code",
   "execution_count": 16,
   "id": "80900302",
   "metadata": {},
   "outputs": [
    {
     "name": "stdout",
     "output_type": "stream",
     "text": [
      "Enter string: hello all\n"
     ]
    },
    {
     "data": {
      "text/plain": [
       "'hello'"
      ]
     },
     "execution_count": 16,
     "metadata": {},
     "output_type": "execute_result"
    }
   ],
   "source": [
    "m=input(\"Enter string: \")\n",
    "n=lambda m:m.split()[0]\n",
    "n(m)"
   ]
  },
  {
   "cell_type": "markdown",
   "id": "e93d0d64",
   "metadata": {},
   "source": [
    "# 2.Write a function to extract first word of s string (with many words separated by space)."
   ]
  },
  {
   "cell_type": "code",
   "execution_count": 17,
   "id": "841d0c6a",
   "metadata": {},
   "outputs": [
    {
     "name": "stdout",
     "output_type": "stream",
     "text": [
      "Enter string : hello all\n",
      "hello\n"
     ]
    }
   ],
   "source": [
    "def extract(m):\n",
    "    n=m.split()\n",
    "    print(n[0])\n",
    "m=input(\"Enter string : \")\n",
    "extract(m)"
   ]
  },
  {
   "cell_type": "markdown",
   "id": "ccacc968",
   "metadata": {},
   "source": [
    "# 3.Extract the first word from every string from a list of strings by using map function."
   ]
  },
  {
   "cell_type": "code",
   "execution_count": 18,
   "id": "d75e63d3",
   "metadata": {},
   "outputs": [
    {
     "name": "stdout",
     "output_type": "stream",
     "text": [
      "['hi', 'hello', 'keerthi']\n"
     ]
    }
   ],
   "source": [
    "l=['hi keerthi','hello ,how are you ','keerthi']\n",
    "m=lambda n:n.split()[0]\n",
    "print(list(map(m,l)))"
   ]
  },
  {
   "cell_type": "markdown",
   "id": "3ea13d32",
   "metadata": {},
   "source": [
    "# 4. Write a function to return a list of prime factors of a given number."
   ]
  },
  {
   "cell_type": "code",
   "execution_count": 19,
   "id": "a180790f",
   "metadata": {},
   "outputs": [
    {
     "name": "stdout",
     "output_type": "stream",
     "text": [
      "Enter a number:24\n",
      "prime factors of  24 are : [2, 3]\n"
     ]
    }
   ],
   "source": [
    "def prime(n):\n",
    "    for i in range(2,n):\n",
    "        if(n%i==0):\n",
    "            return False\n",
    "            break\n",
    "    else:\n",
    "        return True\n",
    "def primef(n):\n",
    "    l=[]\n",
    "    for i in range(2,n+1):\n",
    "        if(n%i==0):\n",
    "            if(prime(i)):\n",
    "                l.append(i)\n",
    "    return l\n",
    "n=int(input('Enter a number:'))\n",
    "print('prime factors of ',n,'are :',primef(n))"
   ]
  },
  {
   "cell_type": "markdown",
   "id": "aa037ac5",
   "metadata": {},
   "source": [
    "# 5. Write a function that finds 2nd largest among 4 numbers (Repetitions are allowed,without sorting)."
   ]
  },
  {
   "cell_type": "code",
   "execution_count": 20,
   "id": "5675ce05",
   "metadata": {},
   "outputs": [
    {
     "name": "stdout",
     "output_type": "stream",
     "text": [
      "Enter any four numbers : 53 24 63 42\n",
      "53\n"
     ]
    }
   ],
   "source": [
    "def secondlarge(l):\n",
    "    new_list=set(l)\n",
    "    new_list.remove(max(new_list))\n",
    "    print(max(new_list))\n",
    "l = [int(i) for i in input(\"Enter any four numbers : \").split()]\n",
    "secondlarge(l)"
   ]
  }
 ],
 "metadata": {
  "kernelspec": {
   "display_name": "Python 3",
   "language": "python",
   "name": "python3"
  },
  "language_info": {
   "codemirror_mode": {
    "name": "ipython",
    "version": 3
   },
   "file_extension": ".py",
   "mimetype": "text/x-python",
   "name": "python",
   "nbconvert_exporter": "python",
   "pygments_lexer": "ipython3",
   "version": "3.8.8"
  }
 },
 "nbformat": 4,
 "nbformat_minor": 5
}

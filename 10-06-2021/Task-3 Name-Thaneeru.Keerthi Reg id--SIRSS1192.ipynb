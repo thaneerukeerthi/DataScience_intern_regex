{
 "cells": [
  {
   "cell_type": "markdown",
   "id": "6774b46f",
   "metadata": {},
   "source": [
    "# 1. Write a function to return nth term of Fibonacci sequence."
   ]
  },
  {
   "cell_type": "code",
   "execution_count": 4,
   "id": "fc0bf875",
   "metadata": {},
   "outputs": [
    {
     "name": "stdout",
     "output_type": "stream",
     "text": [
      "Enter a value: 12\n",
      "12 th term of fibbonacci sequence is:  89\n"
     ]
    }
   ],
   "source": [
    "def fib(a):\n",
    "    if a<0:\n",
    "        print(\"Fibbonacci can't be computed\")\n",
    "    elif a==1:\n",
    "        return 0\n",
    "    elif a==2:\n",
    "        return 1\n",
    "    else:\n",
    "        return fib(a-1)+fib(a-2)\n",
    "if __name__=='__main__':\n",
    "    a= int(input(\"Enter a value: \"))\n",
    "    print(a,\"th term of fibbonacci sequence is: \",fib(a))"
   ]
  },
  {
   "cell_type": "markdown",
   "id": "bfb538a8",
   "metadata": {},
   "source": [
    "# 2. Write a function to find out GCD of two numbers using EUCLID'S algorithm."
   ]
  },
  {
   "cell_type": "code",
   "execution_count": 5,
   "id": "c7d879d2",
   "metadata": {},
   "outputs": [
    {
     "name": "stdout",
     "output_type": "stream",
     "text": [
      "Enter a value: 24\n",
      "Enter b value: 12\n",
      "GCD of  24 and 12 is : 12\n"
     ]
    }
   ],
   "source": [
    "def gcd(a,b):\n",
    "    if a==0:\n",
    "        return b\n",
    "    else:\n",
    "        return(gcd(b%a,a))\n",
    "if __name__=='__main__':\n",
    "    a= int(input(\"Enter a value: \"))\n",
    "    b= int(input(\"Enter b value: \"))\n",
    "    print(\"GCD of \",a,\"and\",b,\"is :\",gcd(a,b))"
   ]
  },
  {
   "cell_type": "markdown",
   "id": "68ecb09d",
   "metadata": {},
   "source": [
    "# 3. Write a function to find LCM of two number in most optimizers way."
   ]
  },
  {
   "cell_type": "code",
   "execution_count": 6,
   "id": "908ce943",
   "metadata": {},
   "outputs": [
    {
     "name": "stdout",
     "output_type": "stream",
     "text": [
      "Enter a value: 15\n",
      "Enter b value: 25\n",
      "LCM of  15 and 25 is : 75\n"
     ]
    }
   ],
   "source": [
    "def gcd(a,b):\n",
    "    if a==0:\n",
    "        return b\n",
    "    else:\n",
    "        return(gcd(b%a,a))\n",
    "def lcm(a,b):\n",
    "    lcm=a*b//gcd(a,b)\n",
    "    return lcm\n",
    "if __name__=='__main__':\n",
    "    a= int(input(\"Enter a value: \"))\n",
    "    b= int(input(\"Enter b value: \"))\n",
    "    print(\"LCM of \",a,\"and\",b,\"is :\",lcm(a,b))"
   ]
  }
 ],
 "metadata": {
  "kernelspec": {
   "display_name": "Python 3",
   "language": "python",
   "name": "python3"
  },
  "language_info": {
   "codemirror_mode": {
    "name": "ipython",
    "version": 3
   },
   "file_extension": ".py",
   "mimetype": "text/x-python",
   "name": "python",
   "nbconvert_exporter": "python",
   "pygments_lexer": "ipython3",
   "version": "3.8.8"
  }
 },
 "nbformat": 4,
 "nbformat_minor": 5
}
